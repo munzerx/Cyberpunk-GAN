{
 "cells": [
  {
   "cell_type": "code",
   "execution_count": 1,
   "id": "ac6e1162",
   "metadata": {},
   "outputs": [],
   "source": [
    "import numpy as np\n",
    "import cv2\n",
    "from tensorflow.keras.models import load_model\n",
    "from matplotlib import pyplot   "
   ]
  },
  {
   "cell_type": "code",
   "execution_count": 26,
   "id": "3534c829",
   "metadata": {},
   "outputs": [],
   "source": [
    "def save_plot(examples, n,generatedCount):\n",
    "    examples = (examples + 1) / 2.0\n",
    "    for i in range(n * n):\n",
    "        pyplot.subplot(n, n, i+1)\n",
    "        pyplot.axis(\"off\")\n",
    "        pyplot.imshow(examples[i])\n",
    "    filename = f\"generated/fake{generatedCount}.png\"\n",
    "    pyplot.savefig(filename)\n",
    "    pyplot.close()"
   ]
  },
  {
   "cell_type": "code",
   "execution_count": 37,
   "id": "2e6e5d5f",
   "metadata": {},
   "outputs": [],
   "source": [
    "def generateNFT(generatedCount):\n",
    "    model = load_model(\"saved_model/g_model.h5\")\n",
    "    n_samples = 1\n",
    "    latent_dim = 128\n",
    "    while generatedCount > 0:\n",
    "        latent_points = np.random.normal(size=(n_samples, latent_dim))\n",
    "        examples = model.predict(latent_points)\n",
    "        save_plot(examples,n_samples, generatedCount)\n",
    "        generatedCount = generatedCount-1"
   ]
  },
  {
   "cell_type": "code",
   "execution_count": 38,
   "id": "f8b11ae0",
   "metadata": {},
   "outputs": [
    {
     "name": "stdout",
     "output_type": "stream",
     "text": [
      "WARNING:tensorflow:No training configuration found in the save file, so the model was *not* compiled. Compile it manually.\n"
     ]
    }
   ],
   "source": [
    "generateNFT(100)"
   ]
  },
  {
   "cell_type": "code",
   "execution_count": null,
   "id": "e8b1f625",
   "metadata": {},
   "outputs": [],
   "source": []
  }
 ],
 "metadata": {
  "kernelspec": {
   "display_name": "Python 3 (ipykernel)",
   "language": "python",
   "name": "python3"
  },
  "language_info": {
   "codemirror_mode": {
    "name": "ipython",
    "version": 3
   },
   "file_extension": ".py",
   "mimetype": "text/x-python",
   "name": "python",
   "nbconvert_exporter": "python",
   "pygments_lexer": "ipython3",
   "version": "3.8.12"
  }
 },
 "nbformat": 4,
 "nbformat_minor": 5
}
