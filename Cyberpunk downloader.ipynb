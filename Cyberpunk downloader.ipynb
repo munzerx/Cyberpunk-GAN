{
 "cells": [
  {
   "cell_type": "code",
   "execution_count": 20,
   "id": "f7dfcf7e",
   "metadata": {},
   "outputs": [],
   "source": [
    "## Importing Necessary Modules\n",
    "import requests # to get image from the web\n",
    "import shutil # to save it locally\n",
    "import os"
   ]
  },
  {
   "cell_type": "code",
   "execution_count": 27,
   "id": "2c63b996",
   "metadata": {},
   "outputs": [],
   "source": [
    "def NFTdownloader(i=0):\n",
    "    if i <= 9:\n",
    "        url = \"https://www.larvalabs.com/public/images/cryptopunks/punk000\"+str(i)+\".png\"\n",
    "    elif i==10 & i<=99:\n",
    "        url = \"https://www.larvalabs.com/public/images/cryptopunks/punk00\"+str(i)+\".png\"\n",
    "    elif 100 <= i <= 1000:\n",
    "        url = \"https://www.larvalabs.com/public/images/cryptopunks/punk0\"+str(i)+\".png\"\n",
    "    elif 1000 <= i <= 10000:\n",
    "        url = \"https://www.larvalabs.com/public/images/cryptopunks/punk\"+str(i)+\".png\"\n",
    "    \n",
    "\n",
    "    print(url)\n",
    "    image_url = url\n",
    "    filename = image_url.split(\"/\")[-1]\n",
    "\n",
    "    # Open the url image, set stream to True, this will return the stream content.\n",
    "    r = requests.get(image_url, stream = True)\n",
    "\n",
    "    # Check if the image was retrieved successfully\n",
    "    if r.status_code == 200:\n",
    "        # Set decode_content value to True, otherwise the downloaded image file's size will be zero.\n",
    "        r.raw.decode_content = True\n",
    "    \n",
    "        # Open a local file with wb ( write binary ) permission.\n",
    "        with open(\"Cyberpunk/\"+filename,'wb') as f:\n",
    "            shutil.copyfileobj(r.raw, f)\n",
    "        \n",
    "        print('Image sucessfully Downloaded: ',filename)\n",
    "    else:\n",
    "        print('Image Couldn\\'t be retreived')\n",
    "    i+=1"
   ]
  },
  {
   "cell_type": "code",
   "execution_count": 28,
   "id": "cc1ceb5f",
   "metadata": {},
   "outputs": [],
   "source": [
    "def checker():\n",
    "    count = 0\n",
    "    while count < 10000:\n",
    "        #print(count)\n",
    "        if count <= 9:\n",
    "            filename =f\"Cyberpunk/punk000{count}.png\"\n",
    "        elif 9 < count <=99:\n",
    "            filename =f\"Cyberpunk/punk00{count}.png\"\n",
    "        elif 99 < count <= 999:\n",
    "            filename =f\"Cyberpunk/punk0{count}.png\"\n",
    "        elif 999 < count <= 9999:\n",
    "            filename =f\"Cyberpunk/punk{count}.png\"\n",
    "            \n",
    "            \n",
    "        if os.path.isfile(filename) == False:\n",
    "            NFTdownloader(count)\n",
    "        count+=1"
   ]
  },
  {
   "cell_type": "code",
   "execution_count": 29,
   "id": "4c3cbabf",
   "metadata": {},
   "outputs": [
    {
     "name": "stdout",
     "output_type": "stream",
     "text": [
      "https://www.larvalabs.com/public/images/cryptopunks/punk4076.png\n",
      "Image sucessfully Downloaded:  punk4076.png\n",
      "https://www.larvalabs.com/public/images/cryptopunks/punk4077.png\n",
      "Image sucessfully Downloaded:  punk4077.png\n",
      "https://www.larvalabs.com/public/images/cryptopunks/punk4599.png\n",
      "Image sucessfully Downloaded:  punk4599.png\n",
      "https://www.larvalabs.com/public/images/cryptopunks/punk4600.png\n",
      "Image sucessfully Downloaded:  punk4600.png\n",
      "https://www.larvalabs.com/public/images/cryptopunks/punk4601.png\n",
      "Image sucessfully Downloaded:  punk4601.png\n",
      "https://www.larvalabs.com/public/images/cryptopunks/punk4602.png\n",
      "Image sucessfully Downloaded:  punk4602.png\n",
      "https://www.larvalabs.com/public/images/cryptopunks/punk4603.png\n",
      "Image sucessfully Downloaded:  punk4603.png\n"
     ]
    }
   ],
   "source": [
    "checker()"
   ]
  },
  {
   "cell_type": "code",
   "execution_count": 26,
   "id": "22f211fa",
   "metadata": {},
   "outputs": [
    {
     "name": "stdout",
     "output_type": "stream",
     "text": [
      "https://www.larvalabs.com/public/images/cryptopunks/punk0003.png\n",
      "Image sucessfully Downloaded:  punk0003.png\n"
     ]
    }
   ],
   "source": [
    "NFTdownloader(3)"
   ]
  },
  {
   "cell_type": "code",
   "execution_count": null,
   "id": "8f8a72b3",
   "metadata": {},
   "outputs": [],
   "source": []
  }
 ],
 "metadata": {
  "kernelspec": {
   "display_name": "Python 3 (ipykernel)",
   "language": "python",
   "name": "python3"
  },
  "language_info": {
   "codemirror_mode": {
    "name": "ipython",
    "version": 3
   },
   "file_extension": ".py",
   "mimetype": "text/x-python",
   "name": "python",
   "nbconvert_exporter": "python",
   "pygments_lexer": "ipython3",
   "version": "3.8.12"
  }
 },
 "nbformat": 4,
 "nbformat_minor": 5
}
